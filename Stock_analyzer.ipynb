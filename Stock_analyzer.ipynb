{
  "cells": [
    {
      "cell_type": "code",
      "execution_count": null,
      "metadata": {
        "id": "59ehqt1Lqota"
      },
      "outputs": [],
      "source": [
        "# Install necessary libraries\n",
        "\n",
        "\n"
      ]
    },
    {
      "cell_type": "code",
      "execution_count": 41,
      "metadata": {
        "colab": {
          "base_uri": "https://localhost:8080/"
        },
        "id": "pogkqiU5tKWd",
        "outputId": "2f43b497-6ead-430d-d202-97b6fe8d39d6"
      },
      "outputs": [
        {
          "output_type": "stream",
          "name": "stdout",
          "text": [
            "Requirement already satisfied: yfinance in /usr/local/lib/python3.11/dist-packages (0.2.54)\n",
            "Requirement already satisfied: pandas in /usr/local/lib/python3.11/dist-packages (2.2.2)\n",
            "Requirement already satisfied: numpy in /usr/local/lib/python3.11/dist-packages (2.0.2)\n",
            "Collecting sklearn\n",
            "  Using cached sklearn-0.0.post12.tar.gz (2.6 kB)\n",
            "  \u001b[1;31merror\u001b[0m: \u001b[1msubprocess-exited-with-error\u001b[0m\n",
            "  \n",
            "  \u001b[31m×\u001b[0m \u001b[32mpython setup.py egg_info\u001b[0m did not run successfully.\n",
            "  \u001b[31m│\u001b[0m exit code: \u001b[1;36m1\u001b[0m\n",
            "  \u001b[31m╰─>\u001b[0m See above for output.\n",
            "  \n",
            "  \u001b[1;35mnote\u001b[0m: This error originates from a subprocess, and is likely not a problem with pip.\n",
            "  Preparing metadata (setup.py) ... \u001b[?25l\u001b[?25herror\n",
            "\u001b[1;31merror\u001b[0m: \u001b[1mmetadata-generation-failed\u001b[0m\n",
            "\n",
            "\u001b[31m×\u001b[0m Encountered error while generating package metadata.\n",
            "\u001b[31m╰─>\u001b[0m See above for output.\n",
            "\n",
            "\u001b[1;35mnote\u001b[0m: This is an issue with the package mentioned above, not pip.\n",
            "\u001b[1;36mhint\u001b[0m: See above for details.\n"
          ]
        }
      ],
      "source": [
        "\n",
        "\n",
        "! pip install yfinance pandas numpy sklearn streamlit matplotlib"
      ]
    },
    {
      "cell_type": "code",
      "execution_count": 36,
      "metadata": {
        "colab": {
          "base_uri": "https://localhost:8080/"
        },
        "id": "RL_3NgF8o0oV",
        "outputId": "a5ca176f-ac39-4877-9f25-54d267bf6f8a"
      },
      "outputs": [
        {
          "output_type": "stream",
          "name": "stdout",
          "text": [
            "Overwriting app.py\n"
          ]
        }
      ],
      "source": [
        "%%writefile app.py\n",
        "# Install necessary libraries\n",
        "# Install necessary libraries\n",
        "# Install necessary libraries\n",
        "# Install necessary libraries\n",
        "# Install necessary libraries\n",
        "# Install necessary libraries\n",
        "# Install necessary libraries\n",
        "# Install necessary libraries\n",
        "# Install necessary libraries\n",
        "# Install necessary libraries\n",
        "# Install necessary libraries\n",
        "import yfinance as yf\n",
        "import pandas as pd\n",
        "import numpy as np\n",
        "import streamlit as st\n",
        "import matplotlib.pyplot as plt\n",
        "import plotly.express as px\n",
        "from sklearn.preprocessing import MinMaxScaler\n",
        "from tensorflow.keras.models import Sequential\n",
        "from tensorflow.keras.layers import LSTM, Dense, Dropout\n",
        "\n",
        "# Fetch stock data\n",
        "def get_stock_data(ticker):\n",
        "    stock = yf.Ticker(ticker)\n",
        "    df = stock.history(period=\"5y\")\n",
        "    df = df[['Close']]\n",
        "    return df\n",
        "\n",
        "# Prepare data for LSTM model\n",
        "def prepare_data(df):\n",
        "    scaler = MinMaxScaler(feature_range=(0, 1))\n",
        "    df_scaled = scaler.fit_transform(df)\n",
        "    X, y = [], []\n",
        "    for i in range(60, len(df_scaled)):\n",
        "        X.append(df_scaled[i-60:i, 0])\n",
        "        y.append(df_scaled[i, 0])\n",
        "    return np.array(X), np.array(y), scaler\n",
        "\n",
        "# Train LSTM model\n",
        "def train_lstm_model(df):\n",
        "    X, y, scaler = prepare_data(df)\n",
        "    X = np.reshape(X, (X.shape[0], X.shape[1], 1))\n",
        "    model = Sequential([\n",
        "        LSTM(units=50, return_sequences=True, input_shape=(X.shape[1], 1)),\n",
        "        Dropout(0.2),\n",
        "        LSTM(units=50, return_sequences=False),\n",
        "        Dropout(0.2),\n",
        "        Dense(units=25),\n",
        "        Dense(units=1)\n",
        "    ])\n",
        "    model.compile(optimizer='adam', loss='mean_squared_error')\n",
        "    model.fit(X, y, epochs=10, batch_size=32, verbose=0)\n",
        "    return model, scaler\n",
        "\n",
        "# Predict next day's stock price\n",
        "def predict_next_day_price(model, df, scaler):\n",
        "    last_60_days = df[-60:].values.reshape(-1, 1)\n",
        "    last_60_scaled = scaler.transform(last_60_days)\n",
        "    X_test = np.reshape(last_60_scaled, (1, last_60_scaled.shape[0], 1))\n",
        "    predicted_price = model.predict(X_test)\n",
        "    return scaler.inverse_transform(predicted_price)[0, 0]\n",
        "\n",
        "# Compare stock growth between user-defined months, including date and year\n",
        "def compare_growth(df, start_month, start_year, end_month, end_year):\n",
        "    start_data = df[(df.index.month == start_month) & (df.index.year == start_year)]\n",
        "    end_data = df[(df.index.month == end_month) & (df.index.year == end_year)]\n",
        "    if start_data.empty or end_data.empty:\n",
        "        return None, None, None\n",
        "    start_price = start_data.iloc[0]['Close']\n",
        "    end_price = end_data.iloc[-1]['Close']\n",
        "    growth = ((end_price - start_price) / start_price) * 100\n",
        "    return start_price, end_price, growth\n",
        "\n",
        "# Streamlit UI\n",
        "def streamlit_ui():\n",
        "    st.title(\" 📈💰📊 Stock Analyzer 📈💰📊 \")\n",
        "    tickers = st.text_input(\"Enter Stock Tickers (comma-separated, e.g., AAPL, TSLA):\", \"\")\n",
        "    ticker_list = [ticker.strip().upper() for ticker in tickers.split(',') if ticker.strip()]\n",
        "\n",
        "    all_data = {}\n",
        "    next_day_prices = {}\n",
        "    for ticker in ticker_list:\n",
        "        df = get_stock_data(ticker)\n",
        "        if not df.empty:\n",
        "            model, scaler = train_lstm_model(df)\n",
        "            next_day_price = predict_next_day_price(model, df, scaler)\n",
        "            all_data[ticker] = df\n",
        "            next_day_prices[ticker] = f\"${next_day_price:.2f}\"\n",
        "\n",
        "    if all_data:\n",
        "        st.subheader(\"Stock Data & Prediction\")\n",
        "        fig = px.line()\n",
        "        for ticker, df in all_data.items():\n",
        "            fig.add_scatter(x=df.index, y=df['Close'], mode='lines', name=ticker)\n",
        "        fig.update_layout(title=\"Stock Prices Comparison\", xaxis_title=\"Date\", yaxis_title=\"Stock Price ($)\")\n",
        "        fig.update_xaxes(rangeslider_visible=True)\n",
        "        st.plotly_chart(fig)\n",
        "\n",
        "        st.subheader(\"Compare Stock Growth Between Months\")\n",
        "        start_month = st.number_input(\"Enter Start Month (1-12):\", min_value=1, max_value=12, value=1)\n",
        "        start_year = st.number_input(\"Enter Start Year:\", min_value=2000, max_value=2025, value=2022)\n",
        "        end_month = st.number_input(\"Enter End Month (1-12):\", min_value=1, max_value=12, value=2)\n",
        "        end_year = st.number_input(\"Enter End Year:\", min_value=2000, max_value=2025, value=2025)\n",
        "\n",
        "        growth_data = []\n",
        "        for ticker, df in all_data.items():\n",
        "            start_price, end_price, growth = compare_growth(df, start_month, start_year, end_month, end_year)\n",
        "            if start_price and end_price:\n",
        "                growth_data.append({\"Ticker\": ticker, \"Start Price ($)\": f\"${start_price:.2f}\", \"End Price ($)\": f\"${end_price:.2f}\", \"Growth %\": f\"{growth:.2f}%\"})\n",
        "            else:\n",
        "                st.error(f\"Insufficient data for {ticker} in selected months and years.\")\n",
        "\n",
        "        if growth_data:\n",
        "            growth_df = pd.DataFrame(growth_data)\n",
        "            st.write(growth_df)\n",
        "            st.bar_chart(growth_df.set_index(\"Ticker\")['Growth %'])\n",
        "\n",
        "        st.subheader(\"Predicted Next Day Price\")\n",
        "        prediction_df = pd.DataFrame({'Ticker': list(next_day_prices.keys()), 'Next Day Price ($)': list(next_day_prices.values())})\n",
        "        st.write(prediction_df)\n",
        "    else:\n",
        "        st.error(\"Invalid Ticker(s) or No Data Available\")\n",
        "\n",
        "# Run Streamlit UI\n",
        "if __name__ == \"__main__\":\n",
        "    streamlit_ui()\n",
        "\n",
        "\n",
        "\n",
        "\n",
        "\n",
        "\n"
      ]
    },
    {
      "cell_type": "code",
      "source": [
        "pip install streamlit -q"
      ],
      "metadata": {
        "id": "VX_Jy2SF_DtE"
      },
      "execution_count": 42,
      "outputs": []
    },
    {
      "cell_type": "code",
      "execution_count": 43,
      "metadata": {
        "colab": {
          "base_uri": "https://localhost:8080/"
        },
        "id": "PM-IntoVr06P",
        "outputId": "6f7aa9a7-427f-46a1-d948-9dce81c74596"
      },
      "outputs": [
        {
          "output_type": "stream",
          "name": "stdout",
          "text": [
            "\u001b[1G\u001b[0K⠙\u001b[1G\u001b[0K⠹\u001b[1G\u001b[0K⠸\u001b[1G\u001b[0K⠼\u001b[1G\u001b[0K⠴\u001b[1G\u001b[0K⠦\u001b[1G\u001b[0K⠧\u001b[1G\u001b[0K⠇\u001b[1G\u001b[0K⠏\u001b[1G\u001b[0K⠋\u001b[1G\u001b[0K⠙\u001b[1G\u001b[0K⠹\u001b[1G\u001b[0K⠸\u001b[1G\u001b[0K⠼\u001b[1G\u001b[0K⠴\u001b[1G\u001b[0K⠦\u001b[1G\u001b[0K⠧\u001b[1G\u001b[0K⠇\u001b[1G\u001b[0K⠏\u001b[1G\u001b[0K⠋\u001b[1G\u001b[0K⠙\u001b[1G\u001b[0K⠹\u001b[1G\u001b[0K⠸\u001b[1G\u001b[0K⠼\u001b[1G\u001b[0K⠴\u001b[1G\u001b[0K\n",
            "changed 22 packages in 3s\n",
            "\u001b[1G\u001b[0K⠦\u001b[1G\u001b[0K\n",
            "\u001b[1G\u001b[0K⠦\u001b[1G\u001b[0K3 packages are looking for funding\n",
            "\u001b[1G\u001b[0K⠦\u001b[1G\u001b[0K  run `npm fund` for details\n",
            "\u001b[1G\u001b[0K⠦\u001b[1G\u001b[0K"
          ]
        }
      ],
      "source": [
        "!npm install -g localtunnel\n"
      ]
    },
    {
      "cell_type": "code",
      "execution_count": 44,
      "metadata": {
        "colab": {
          "base_uri": "https://localhost:8080/"
        },
        "id": "7jbuO23Lr7Ov",
        "outputId": "9fd565cc-2c93-4906-cb0a-5a7fb0f3e438"
      },
      "outputs": [
        {
          "output_type": "stream",
          "name": "stdout",
          "text": [
            "35.230.80.186\n"
          ]
        }
      ],
      "source": [
        "! wget -q -O - ipv4.icanhazip.com"
      ]
    },
    {
      "cell_type": "code",
      "execution_count": null,
      "metadata": {
        "colab": {
          "base_uri": "https://localhost:8080/"
        },
        "id": "sKmQR9b2r-i-",
        "outputId": "7675ace3-e5e7-4783-d691-0d63a224f7a5"
      },
      "outputs": [
        {
          "output_type": "stream",
          "name": "stdout",
          "text": [
            "\n",
            "Collecting usage statistics. To deactivate, set browser.gatherUsageStats to false.\n",
            "\u001b[0m\n",
            "\u001b[1G\u001b[0K⠙\u001b[1G\u001b[0K⠹\u001b[1G\u001b[0K⠸\u001b[1G\u001b[0K⠼\u001b[1G\u001b[0K⠴\u001b[1G\u001b[0K⠦\u001b[1G\u001b[0K⠧\u001b[1G\u001b[0K⠇\u001b[0m\n",
            "\u001b[34m\u001b[1m  You can now view your Streamlit app in your browser.\u001b[0m\n",
            "\u001b[0m\n",
            "\u001b[34m  Local URL: \u001b[0m\u001b[1mhttp://localhost:8501\u001b[0m\n",
            "\u001b[34m  Network URL: \u001b[0m\u001b[1mhttp://172.28.0.12:8501\u001b[0m\n",
            "\u001b[34m  External URL: \u001b[0m\u001b[1mhttp://35.230.80.186:8501\u001b[0m\n",
            "\u001b[0m\n",
            "\u001b[1G\u001b[0Kyour url is: https://chatty-carpets-greet.loca.lt\n",
            "2025-03-23 09:51:17.594000: E external/local_xla/xla/stream_executor/cuda/cuda_fft.cc:477] Unable to register cuFFT factory: Attempting to register factory for plugin cuFFT when one has already been registered\n",
            "WARNING: All log messages before absl::InitializeLog() is called are written to STDERR\n",
            "E0000 00:00:1742723477.627755   35304 cuda_dnn.cc:8310] Unable to register cuDNN factory: Attempting to register factory for plugin cuDNN when one has already been registered\n",
            "E0000 00:00:1742723477.637569   35304 cuda_blas.cc:1418] Unable to register cuBLAS factory: Attempting to register factory for plugin cuBLAS when one has already been registered\n",
            "2025-03-23 09:51:17.672074: I tensorflow/core/platform/cpu_feature_guard.cc:210] This TensorFlow binary is optimized to use available CPU instructions in performance-critical operations.\n",
            "To enable the following instructions: AVX2 FMA, in other operations, rebuild TensorFlow with the appropriate compiler flags.\n"
          ]
        }
      ],
      "source": [
        "! streamlit run app.py & npx localtunnel --port 8501"
      ]
    }
  ],
  "metadata": {
    "colab": {
      "provenance": []
    },
    "kernelspec": {
      "display_name": "Python 3",
      "name": "python3"
    },
    "language_info": {
      "name": "python"
    }
  },
  "nbformat": 4,
  "nbformat_minor": 0
}